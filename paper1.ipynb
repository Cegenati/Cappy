{
 "metadata": {
  "language_info": {
   "codemirror_mode": {
    "name": "ipython",
    "version": 3
   },
   "file_extension": ".py",
   "mimetype": "text/x-python",
   "name": "python",
   "nbconvert_exporter": "python",
   "pygments_lexer": "ipython3",
   "version": "3.7.3"
  },
  "orig_nbformat": 2,
  "kernelspec": {
   "name": "python373jvsc74a57bd0398dc28c06ad810e77de546bbdfa897a6ee0b83e59a5207339dda01a7843e01d",
   "display_name": "Python 3.7.3 64-bit ('base': conda)"
  }
 },
 "nbformat": 4,
 "nbformat_minor": 2,
 "cells": [
  {
   "cell_type": "code",
   "execution_count": 1,
   "metadata": {},
   "outputs": [],
   "source": [
    "import pandas as pd\n",
    "import sklearn\n",
    "import numpy as np"
   ]
  },
  {
   "cell_type": "code",
   "execution_count": 2,
   "metadata": {},
   "outputs": [],
   "source": [
    "#Load data"
   ]
  },
  {
   "cell_type": "code",
   "execution_count": 3,
   "metadata": {},
   "outputs": [],
   "source": [
    "#Preprocess data\n",
    "# Resample to 1000Hz\n",
    "# Pass through db6 to remove noise\n",
    "# Detect R-peaks and select 250 samples to the left and 400 samples to the right as one beat (signal)\n",
    "# DWT x4 on each signal"
   ]
  },
  {
   "cell_type": "code",
   "execution_count": 4,
   "metadata": {},
   "outputs": [],
   "source": [
    "# Feature engineering\n",
    "# - Approximate Entropy\n",
    "# - Signal Energy\n",
    "# - Fuzzy Entropy\n",
    "# - Kolmogorov-SInai Entropy\n",
    "# - Permutation Entropy\n",
    "# - Shannon Entropy\n",
    "# - Renyi Entropy\n",
    "# - Tsallis Entropy\n",
    "# - Wavelet Entropy\n",
    "# - Fractal Dimension\n",
    "# - Kolmogorov Complexity\n",
    "# -  Largest Lyapuniv Exponent"
   ]
  },
  {
   "cell_type": "code",
   "execution_count": 5,
   "metadata": {},
   "outputs": [],
   "source": [
    "# Define model\n",
    "# KNN with K=5"
   ]
  },
  {
   "cell_type": "code",
   "execution_count": null,
   "metadata": {},
   "outputs": [],
   "source": [
    "#Train model\n",
    "# 10-fold cross val"
   ]
  }
 ]
}