{
 "cells": [
  {
   "cell_type": "markdown",
   "metadata": {},
   "source": [
    "## Prototype of CNN model used in this paper: https://www.sciencedirect.com/science/article/pii/S2352914818301333"
   ]
  },
  {
   "cell_type": "code",
   "execution_count": 1,
   "metadata": {},
   "outputs": [],
   "source": [
    "## Set environment variable for data reading\n",
    "import os\n",
    "os.environ[\"PTB_FOLDER_PATH\"] = \"/Users/cesargenatios/Downloads/ptb-diagnostic-ecg-database-1.0.0\""
   ]
  },
  {
   "cell_type": "code",
   "execution_count": 2,
   "metadata": {},
   "outputs": [],
   "source": [
    "## Load data from PTB dataset\n",
    "import sys\n",
    "sys.path.insert(0,\"/Users/cesargenatios/Desktop/cappy/ptd_data_handler\")\n",
    "from data_formatter import *\n",
    "all_patient_data = get_formatted_ptb_data()\n"
   ]
  },
  {
   "cell_type": "code",
   "execution_count": 3,
   "metadata": {},
   "outputs": [],
   "source": [
    "## Choose two patients one with MI, one with Non-MI to test PoC. Test on another \n",
    "mi_train_df = all_patient_data['patient024']['s0094lre']\n",
    "healthy_train_df = all_patient_data['patient252']['s0487_re']\n",
    "\n",
    "mi_test_df = all_patient_data['patient024']['s0083lre']"
   ]
  },
  {
   "cell_type": "code",
   "execution_count": 4,
   "metadata": {},
   "outputs": [],
   "source": [
    "del all_patient_data"
   ]
  },
  {
   "cell_type": "code",
   "execution_count": 27,
   "metadata": {},
   "outputs": [
    {
     "name": "stdout",
     "output_type": "stream",
     "text": [
      "(45, 5, 512, 12) (45, 1, 1)\n",
      "(45, 5, 512, 12) (45, 1, 1)\n"
     ]
    }
   ],
   "source": [
    "import numpy as np\n",
    "## Grab 512 of one patient data\n",
    "mi_train_data = mi_train_df[['i', 'ii', 'iii', 'avr', 'avl', 'avf', 'v1', 'v2', 'v3', 'v4', 'v5',\n",
    "       'v6']].to_numpy()\n",
    "mi_train_data = np.reshape(mi_train_data, [45,5,512,12])\n",
    "mi_train_label = np.ones((45,1,1))\n",
    "print(mi_train_data.shape, mi_train_label.shape) \n",
    "\n",
    "mi_test_data = mi_test_df[['i', 'ii', 'iii', 'avr', 'avl', 'avf', 'v1', 'v2', 'v3', 'v4', 'v5',\n",
    "       'v6']].to_numpy()\n",
    "mi_test_data = np.reshape(mi_test_data, [45,5,512,12])\n",
    "mi_test_label = np.ones((45,1,1))\n",
    "print(mi_test_data.shape, mi_test_label.shape)"
   ]
  },
  {
   "cell_type": "markdown",
   "metadata": {},
   "source": [
    "## Model Architecture"
   ]
  },
  {
   "cell_type": "code",
   "execution_count": 22,
   "metadata": {},
   "outputs": [
    {
     "name": "stdout",
     "output_type": "stream",
     "text": [
      "Model: \"cnn_lstm_model\"\n",
      "_________________________________________________________________\n",
      "Layer (type)                 Output Shape              Param #   \n",
      "=================================================================\n",
      "input_5 (InputLayer)         [(None, 5, 512, 12)]      0         \n",
      "_________________________________________________________________\n",
      "time_distributed_58 (TimeDis (None, 5, 512, 32)        1184      \n",
      "_________________________________________________________________\n",
      "time_distributed_59 (TimeDis (None, 5, 512, 32)        128       \n",
      "_________________________________________________________________\n",
      "time_distributed_60 (TimeDis (None, 5, 512, 32)        3104      \n",
      "_________________________________________________________________\n",
      "time_distributed_61 (TimeDis (None, 5, 512, 32)        128       \n",
      "_________________________________________________________________\n",
      "time_distributed_62 (TimeDis (None, 5, 256, 32)        0         \n",
      "_________________________________________________________________\n",
      "time_distributed_63 (TimeDis (None, 5, 256, 32)        0         \n",
      "_________________________________________________________________\n",
      "time_distributed_64 (TimeDis (None, 5, 256, 32)        3104      \n",
      "_________________________________________________________________\n",
      "time_distributed_65 (TimeDis (None, 5, 256, 32)        128       \n",
      "_________________________________________________________________\n",
      "time_distributed_66 (TimeDis (None, 5, 256, 32)        3104      \n",
      "_________________________________________________________________\n",
      "time_distributed_67 (TimeDis (None, 5, 256, 32)        128       \n",
      "_________________________________________________________________\n",
      "time_distributed_68 (TimeDis (None, 5, 128, 32)        0         \n",
      "_________________________________________________________________\n",
      "time_distributed_69 (TimeDis (None, 5, 128, 32)        0         \n",
      "_________________________________________________________________\n",
      "time_distributed_70 (TimeDis (None, 5, 128, 32)        3104      \n",
      "_________________________________________________________________\n",
      "time_distributed_71 (TimeDis (None, 5, 128, 32)        128       \n",
      "_________________________________________________________________\n",
      "time_distributed_72 (TimeDis (None, 5, 128, 32)        3104      \n",
      "_________________________________________________________________\n",
      "time_distributed_73 (TimeDis (None, 5, 128, 32)        128       \n",
      "_________________________________________________________________\n",
      "time_distributed_74 (TimeDis (None, 5, 64, 32)         0         \n",
      "_________________________________________________________________\n",
      "time_distributed_75 (TimeDis (None, 5, 64, 32)         0         \n",
      "_________________________________________________________________\n",
      "time_distributed_76 (TimeDis (None, 5, 64, 32)         3104      \n",
      "_________________________________________________________________\n",
      "time_distributed_77 (TimeDis (None, 5, 64, 32)         128       \n",
      "_________________________________________________________________\n",
      "time_distributed_78 (TimeDis (None, 5, 64, 32)         3104      \n",
      "_________________________________________________________________\n",
      "time_distributed_79 (TimeDis (None, 5, 64, 32)         128       \n",
      "_________________________________________________________________\n",
      "time_distributed_80 (TimeDis (None, 5, 32, 32)         0         \n",
      "_________________________________________________________________\n",
      "time_distributed_81 (TimeDis (None, 5, 32, 32)         0         \n",
      "_________________________________________________________________\n",
      "time_distributed_82 (TimeDis (None, 5, 1024)           0         \n",
      "_________________________________________________________________\n",
      "time_distributed_83 (TimeDis (None, 5, 32)             32800     \n",
      "_________________________________________________________________\n",
      "time_distributed_84 (TimeDis (None, 5, 32)             128       \n",
      "_________________________________________________________________\n",
      "time_distributed_85 (TimeDis (None, 5, 32)             0         \n",
      "_________________________________________________________________\n",
      "lstm_1 (LSTM)                (None, 32)                8320      \n",
      "_________________________________________________________________\n",
      "batch_normalization_30 (Batc (None, 32)                128       \n",
      "_________________________________________________________________\n",
      "dropout_17 (Dropout)         (None, 32)                0         \n",
      "_________________________________________________________________\n",
      "dense_4 (Dense)              (None, 16)                528       \n",
      "_________________________________________________________________\n",
      "batch_normalization_31 (Batc (None, 16)                64        \n",
      "_________________________________________________________________\n",
      "dropout_18 (Dropout)         (None, 16)                0         \n",
      "_________________________________________________________________\n",
      "dense_5 (Dense)              (None, 1)                 17        \n",
      "=================================================================\n",
      "Total params: 65,921\n",
      "Trainable params: 65,249\n",
      "Non-trainable params: 672\n",
      "_________________________________________________________________\n"
     ]
    }
   ],
   "source": [
    "import tensorflow as tf\n",
    "\n",
    "seq_length = 5\n",
    "beat_length = 512\n",
    "num_feats = 12\n",
    "\n",
    "## Layer 0 - input\n",
    "input = tf.keras.Input(shape=(seq_length, beat_length, num_feats))\n",
    "\n",
    "## Layers 1-6 - time-distributed convolutional block\n",
    "x = tf.keras.layers.TimeDistributed(tf.keras.layers.Conv1D(32, 3, padding='same', activation='relu'))(input)\n",
    "x = tf.keras.layers.TimeDistributed(tf.keras.layers.BatchNormalization())(x)\n",
    "x = tf.keras.layers.TimeDistributed(tf.keras.layers.Conv1D(32, 3, padding='same', activation='relu'))(x)\n",
    "x = tf.keras.layers.TimeDistributed(tf.keras.layers.BatchNormalization())(x)\n",
    "x = tf.keras.layers.TimeDistributed(tf.keras.layers.MaxPool1D(pool_size=2))(x)\n",
    "x = tf.keras.layers.TimeDistributed(tf.keras.layers.Dropout(0.5))(x)\n",
    "\n",
    "## Layers 7-12 - time-distributed convolutional block\n",
    "x = tf.keras.layers.TimeDistributed(tf.keras.layers.Conv1D(32, 3, padding='same', activation='relu'))(x)\n",
    "x = tf.keras.layers.TimeDistributed(tf.keras.layers.BatchNormalization())(x)\n",
    "x = tf.keras.layers.TimeDistributed(tf.keras.layers.Conv1D(32, 3, padding='same', activation='relu'))(x)\n",
    "x = tf.keras.layers.TimeDistributed(tf.keras.layers.BatchNormalization())(x)\n",
    "x = tf.keras.layers.TimeDistributed(tf.keras.layers.MaxPool1D(pool_size=2))(x)\n",
    "x = tf.keras.layers.TimeDistributed(tf.keras.layers.Dropout(0.5))(x)\n",
    "\n",
    "## Layers 13-19 - time-distributed convolutional block\n",
    "x = tf.keras.layers.TimeDistributed(tf.keras.layers.Conv1D(32, 3, padding='same', activation='relu'))(x)\n",
    "x = tf.keras.layers.TimeDistributed(tf.keras.layers.BatchNormalization())(x)\n",
    "x = tf.keras.layers.TimeDistributed(tf.keras.layers.Conv1D(32, 3, padding='same', activation='relu'))(x)\n",
    "x = tf.keras.layers.TimeDistributed(tf.keras.layers.BatchNormalization())(x)\n",
    "x = tf.keras.layers.TimeDistributed(tf.keras.layers.MaxPool1D(pool_size=2))(x)\n",
    "x = tf.keras.layers.TimeDistributed(tf.keras.layers.Dropout(0.5))(x)\n",
    "\n",
    "## Layers 19-24 - time-distributed convolutional block\n",
    "x = tf.keras.layers.TimeDistributed(tf.keras.layers.Conv1D(32, 3, padding='same', activation='relu'))(x)\n",
    "x = tf.keras.layers.TimeDistributed(tf.keras.layers.BatchNormalization())(x)\n",
    "x = tf.keras.layers.TimeDistributed(tf.keras.layers.Conv1D(32, 3, padding='same', activation='relu'))(x)\n",
    "x = tf.keras.layers.TimeDistributed(tf.keras.layers.BatchNormalization())(x)\n",
    "x = tf.keras.layers.TimeDistributed(tf.keras.layers.MaxPool1D(pool_size=2))(x)\n",
    "x = tf.keras.layers.TimeDistributed(tf.keras.layers.Dropout(0.5))(x)\n",
    "\n",
    "## Layer 25 - time-distributed flatten\n",
    "x = tf.keras.layers.TimeDistributed(tf.keras.layers.Flatten())(x)\n",
    "\n",
    "## Layer 26 - time-distributed dense\n",
    "x = tf.keras.layers.TimeDistributed(tf.keras.layers.Dense(32, activation='relu'))(x)\n",
    "\n",
    "## Layer 27 - time-distributed batch norm\n",
    "x = tf.keras.layers.TimeDistributed(tf.keras.layers.BatchNormalization())(x)\n",
    "\n",
    "## Layer 28 - time-distributed dropout\n",
    "x = tf.keras.layers.TimeDistributed(tf.keras.layers.Dropout(0.5))(x)\n",
    "\n",
    "## Layer 29 - LSTM\n",
    "x = tf.keras.layers.LSTM(32)(x)\n",
    "\n",
    "## Layer 30 - batch norm\n",
    "x = tf.keras.layers.BatchNormalization()(x)\n",
    "\n",
    "## Layer 31 - dropout\n",
    "x = tf.keras.layers.Dropout(0.5)(x)\n",
    "\n",
    "## Layer 32 - dense\n",
    "x = tf.keras.layers.Dense(16, activation='relu')(x)\n",
    "\n",
    "## Layer 33 - batch norm\n",
    "x = tf.keras.layers.BatchNormalization()(x)\n",
    "\n",
    "## Layer 34 - dropout\n",
    "x = tf.keras.layers.Dropout(0.5)(x)\n",
    "\n",
    "## Layer 35 - output\n",
    "output = tf.keras.layers.Dense(1, activation='softmax')(x)\n",
    "\n",
    "cnn_lstm_model = tf.keras.Model(input, output, name=\"cnn_lstm_model\")\n",
    "cnn_lstm_model.summary()"
   ]
  },
  {
   "cell_type": "code",
   "execution_count": 23,
   "metadata": {},
   "outputs": [
    {
     "name": "stdout",
     "output_type": "stream",
     "text": [
      "('You must install pydot (`pip install pydot`) and install graphviz (see instructions at https://graphviz.gitlab.io/download/) ', 'for plot_model/model_to_dot to work.')\n"
     ]
    }
   ],
   "source": [
    "tf.keras.utils.plot_model(cnn_lstm_model, \"cnn_lstm_model.png\", show_shapes=True)"
   ]
  },
  {
   "cell_type": "code",
   "execution_count": 24,
   "metadata": {},
   "outputs": [],
   "source": [
    "cnn_lstm_model.compile(optimizer=tf.keras.optimizers.Adam(learning_rate=1e-3), loss=tf.keras.losses.BinaryCrossentropy(), metrics=tf.keras.metrics.BinaryAccuracy())"
   ]
  },
  {
   "cell_type": "code",
   "execution_count": 28,
   "metadata": {},
   "outputs": [
    {
     "name": "stdout",
     "output_type": "stream",
     "text": [
      "Epoch 1/2\n",
      "2/2 [==============================] - 2s 1s/step - loss: 0.9808 - binary_accuracy: 1.0000 - val_loss: 0.6677 - val_binary_accuracy: 1.0000\n",
      "Epoch 2/2\n",
      "2/2 [==============================] - 2s 933ms/step - loss: 1.0874 - binary_accuracy: 1.0000 - val_loss: 0.6523 - val_binary_accuracy: 1.0000\n"
     ]
    },
    {
     "data": {
      "text/plain": [
       "<keras.callbacks.History at 0x16d443e10>"
      ]
     },
     "execution_count": 28,
     "metadata": {},
     "output_type": "execute_result"
    }
   ],
   "source": [
    "tf.config.experimental_run_functions_eagerly(True)\n",
    "\n",
    "cnn_lstm_model.fit(x=mi_train_data, y=mi_train_label, batch_size=32, epochs=2, verbose=True, validation_data=(mi_test_data, mi_test_label))"
   ]
  },
  {
   "cell_type": "code",
   "execution_count": 29,
   "metadata": {},
   "outputs": [
    {
     "name": "stderr",
     "output_type": "stream",
     "text": [
      "WARNING:absl:Found untraced functions such as lstm_cell_1_layer_call_fn, lstm_cell_1_layer_call_and_return_conditional_losses, lstm_cell_1_layer_call_fn, lstm_cell_1_layer_call_and_return_conditional_losses, lstm_cell_1_layer_call_and_return_conditional_losses while saving (showing 5 of 5). These functions will not be directly callable after loading.\n"
     ]
    },
    {
     "name": "stdout",
     "output_type": "stream",
     "text": [
      "INFO:tensorflow:Assets written to: /Users/cesargenatios/Desktop/cappy/model_dev/model_prototypes/cnn_lstm/saved_model/assets\n"
     ]
    },
    {
     "name": "stderr",
     "output_type": "stream",
     "text": [
      "INFO:tensorflow:Assets written to: /Users/cesargenatios/Desktop/cappy/model_dev/model_prototypes/cnn_lstm/saved_model/assets\n"
     ]
    }
   ],
   "source": [
    "tf.saved_model.save(cnn_lstm_model, \"/Users/cesargenatios/Desktop/cappy/model_dev/model_prototypes/cnn_lstm/saved_model\")"
   ]
  },
  {
   "cell_type": "code",
   "execution_count": null,
   "metadata": {},
   "outputs": [],
   "source": []
  }
 ],
 "metadata": {
  "interpreter": {
   "hash": "398dc28c06ad810e77de546bbdfa897a6ee0b83e59a5207339dda01a7843e01d"
  },
  "kernelspec": {
   "display_name": "Python 3.7.3 64-bit ('base': conda)",
   "name": "python3"
  },
  "language_info": {
   "codemirror_mode": {
    "name": "ipython",
    "version": 3
   },
   "file_extension": ".py",
   "mimetype": "text/x-python",
   "name": "python",
   "nbconvert_exporter": "python",
   "pygments_lexer": "ipython3",
   "version": "3.7.3"
  },
  "orig_nbformat": 4
 },
 "nbformat": 4,
 "nbformat_minor": 2
}
