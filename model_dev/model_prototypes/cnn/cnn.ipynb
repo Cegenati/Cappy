{
 "cells": [
  {
   "cell_type": "markdown",
   "metadata": {},
   "source": [
    "## Prototype of CNN model used in this paper: https://www.sciencedirect.com/science/article/pii/S2352914818301333"
   ]
  },
  {
   "cell_type": "code",
   "execution_count": 1,
   "metadata": {},
   "outputs": [],
   "source": [
    "## Set environment variable for data reading\n",
    "import os\n",
    "os.environ[\"PTB_FOLDER_PATH\"] = \"/Users/cesargenatios/Downloads/ptb-diagnostic-ecg-database-1.0.0\""
   ]
  },
  {
   "cell_type": "code",
   "execution_count": 2,
   "metadata": {},
   "outputs": [],
   "source": [
    "## Load data from PTB dataset\n",
    "import sys\n",
    "sys.path.insert(0,\"/Users/cesargenatios/Desktop/cappy/ptd_data_handler\")\n",
    "from data_formatter import *\n",
    "all_patient_data = get_formatted_ptb_data()\n"
   ]
  },
  {
   "cell_type": "code",
   "execution_count": 3,
   "metadata": {},
   "outputs": [],
   "source": [
    "## Choose two patients one with MI, one with Non-MI to test PoC. Test on another \n",
    "mi_train_df = all_patient_data['patient024']['s0094lre']\n",
    "healthy_train_df = all_patient_data['patient252']['s0487_re']\n",
    "\n",
    "mi_test_df = all_patient_data['patient024']['s0083lre']"
   ]
  },
  {
   "cell_type": "code",
   "execution_count": 4,
   "metadata": {},
   "outputs": [],
   "source": [
    "del all_patient_data"
   ]
  },
  {
   "cell_type": "code",
   "execution_count": 23,
   "metadata": {},
   "outputs": [
    {
     "name": "stdout",
     "output_type": "stream",
     "text": [
      "(225, 512, 12) (225, 1)\n",
      "(225, 512, 12) (225, 1)\n"
     ]
    }
   ],
   "source": [
    "import numpy as np\n",
    "## Grab 512 of one patient data\n",
    "mi_train_data = mi_train_df[['i', 'ii', 'iii', 'avr', 'avl', 'avf', 'v1', 'v2', 'v3', 'v4', 'v5',\n",
    "       'v6']].to_numpy()\n",
    "mi_train_data = np.reshape(mi_train_data, [225,512,12])\n",
    "mi_train_label = np.ones((225,1))\n",
    "print(mi_train_data.shape, mi_train_label.shape) \n",
    "\n",
    "mi_test_data = mi_test_df[['i', 'ii', 'iii', 'avr', 'avl', 'avf', 'v1', 'v2', 'v3', 'v4', 'v5',\n",
    "       'v6']].to_numpy()\n",
    "mi_test_data = np.reshape(mi_test_data, [225,512,12])\n",
    "mi_test_label = np.ones((225,1))\n",
    "print(mi_test_data.shape, mi_test_label.shape)"
   ]
  },
  {
   "cell_type": "markdown",
   "metadata": {},
   "source": [
    "## Model Architecture"
   ]
  },
  {
   "cell_type": "code",
   "execution_count": 17,
   "metadata": {},
   "outputs": [
    {
     "name": "stdout",
     "output_type": "stream",
     "text": [
      "Model: \"cnn_model\"\n",
      "_________________________________________________________________\n",
      "Layer (type)                 Output Shape              Param #   \n",
      "=================================================================\n",
      "input_3 (InputLayer)         [(None, 512, 12)]         0         \n",
      "_________________________________________________________________\n",
      "conv1d_10 (Conv1D)           (None, 512, 32)           1184      \n",
      "_________________________________________________________________\n",
      "batch_normalization_13 (Batc (None, 512, 32)           128       \n",
      "_________________________________________________________________\n",
      "conv1d_11 (Conv1D)           (None, 512, 32)           3104      \n",
      "_________________________________________________________________\n",
      "batch_normalization_14 (Batc (None, 512, 32)           128       \n",
      "_________________________________________________________________\n",
      "max_pooling1d_5 (MaxPooling1 (None, 256, 32)           0         \n",
      "_________________________________________________________________\n",
      "dropout_7 (Dropout)          (None, 256, 32)           0         \n",
      "_________________________________________________________________\n",
      "conv1d_12 (Conv1D)           (None, 256, 32)           3104      \n",
      "_________________________________________________________________\n",
      "batch_normalization_15 (Batc (None, 256, 32)           128       \n",
      "_________________________________________________________________\n",
      "conv1d_13 (Conv1D)           (None, 256, 32)           3104      \n",
      "_________________________________________________________________\n",
      "batch_normalization_16 (Batc (None, 256, 32)           128       \n",
      "_________________________________________________________________\n",
      "max_pooling1d_6 (MaxPooling1 (None, 128, 32)           0         \n",
      "_________________________________________________________________\n",
      "dropout_8 (Dropout)          (None, 128, 32)           0         \n",
      "_________________________________________________________________\n",
      "conv1d_14 (Conv1D)           (None, 128, 32)           3104      \n",
      "_________________________________________________________________\n",
      "batch_normalization_17 (Batc (None, 128, 32)           128       \n",
      "_________________________________________________________________\n",
      "conv1d_15 (Conv1D)           (None, 128, 32)           3104      \n",
      "_________________________________________________________________\n",
      "batch_normalization_18 (Batc (None, 128, 32)           128       \n",
      "_________________________________________________________________\n",
      "max_pooling1d_7 (MaxPooling1 (None, 64, 32)            0         \n",
      "_________________________________________________________________\n",
      "dropout_9 (Dropout)          (None, 64, 32)            0         \n",
      "_________________________________________________________________\n",
      "conv1d_16 (Conv1D)           (None, 64, 32)            3104      \n",
      "_________________________________________________________________\n",
      "batch_normalization_19 (Batc (None, 64, 32)            128       \n",
      "_________________________________________________________________\n",
      "conv1d_17 (Conv1D)           (None, 64, 32)            3104      \n",
      "_________________________________________________________________\n",
      "batch_normalization_20 (Batc (None, 64, 32)            128       \n",
      "_________________________________________________________________\n",
      "max_pooling1d_8 (MaxPooling1 (None, 32, 32)            0         \n",
      "_________________________________________________________________\n",
      "dropout_10 (Dropout)         (None, 32, 32)            0         \n",
      "_________________________________________________________________\n",
      "flatten_1 (Flatten)          (None, 1024)              0         \n",
      "_________________________________________________________________\n",
      "dense_4 (Dense)              (None, 32)                32800     \n",
      "_________________________________________________________________\n",
      "batch_normalization_21 (Batc (None, 32)                128       \n",
      "_________________________________________________________________\n",
      "dropout_11 (Dropout)         (None, 32)                0         \n",
      "_________________________________________________________________\n",
      "dense_5 (Dense)              (None, 32)                1056      \n",
      "_________________________________________________________________\n",
      "batch_normalization_22 (Batc (None, 32)                128       \n",
      "_________________________________________________________________\n",
      "dropout_12 (Dropout)         (None, 32)                0         \n",
      "_________________________________________________________________\n",
      "dense_6 (Dense)              (None, 16)                528       \n",
      "_________________________________________________________________\n",
      "batch_normalization_23 (Batc (None, 16)                64        \n",
      "_________________________________________________________________\n",
      "dropout_13 (Dropout)         (None, 16)                0         \n",
      "_________________________________________________________________\n",
      "dense_7 (Dense)              (None, 1)                 17        \n",
      "=================================================================\n",
      "Total params: 58,657\n",
      "Trainable params: 57,985\n",
      "Non-trainable params: 672\n",
      "_________________________________________________________________\n"
     ]
    }
   ],
   "source": [
    "import tensorflow as tf\n",
    "\n",
    "beat_length = 512\n",
    "num_feats = 12\n",
    "\n",
    "## Layer 0 - input\n",
    "input = tf.keras.Input(shape=(beat_length,num_feats))\n",
    "\n",
    "## Layers 1-6 - convolutional block\n",
    "x = tf.keras.layers.Conv1D(32, 3,  padding='same', activation='relu')(input)\n",
    "x = tf.keras.layers.BatchNormalization()(x)\n",
    "x = tf.keras.layers.Conv1D(32, 3, padding='same', activation='relu')(x)\n",
    "x = tf.keras.layers.BatchNormalization()(x)\n",
    "x = tf.keras.layers.MaxPool1D(pool_size=2)(x)\n",
    "x = tf.keras.layers.Dropout(0.5)(x)\n",
    "\n",
    "## Layers 7-12 - convolutional block\n",
    "x = tf.keras.layers.Conv1D(32, 3,  padding='same', activation='relu')(x)\n",
    "x = tf.keras.layers.BatchNormalization()(x)\n",
    "x = tf.keras.layers.Conv1D(32, 3, padding='same', activation='relu')(x)\n",
    "x = tf.keras.layers.BatchNormalization()(x)\n",
    "x = tf.keras.layers.MaxPool1D(pool_size=2)(x)\n",
    "x = tf.keras.layers.Dropout(0.5)(x)\n",
    "\n",
    "## Layers 13-19 - convolutional block\n",
    "x = tf.keras.layers.Conv1D(32, 3,  padding='same', activation='relu')(x)\n",
    "x = tf.keras.layers.BatchNormalization()(x)\n",
    "x = tf.keras.layers.Conv1D(32, 3, padding='same', activation='relu')(x)\n",
    "x = tf.keras.layers.BatchNormalization()(x)\n",
    "x = tf.keras.layers.MaxPool1D(pool_size=2)(x)\n",
    "x = tf.keras.layers.Dropout(0.5)(x)\n",
    "\n",
    "## Layers 19-24 - convolutional block\n",
    "x = tf.keras.layers.Conv1D(32, 3,  padding='same', activation='relu')(x)\n",
    "x = tf.keras.layers.BatchNormalization()(x)\n",
    "x = tf.keras.layers.Conv1D(32, 3, padding='same', activation='relu')(x)\n",
    "x = tf.keras.layers.BatchNormalization()(x)\n",
    "x = tf.keras.layers.MaxPool1D(pool_size=2)(x)\n",
    "x = tf.keras.layers.Dropout(0.5)(x)\n",
    "\n",
    "## Layer 25 - flatten\n",
    "x = tf.keras.layers.Flatten()(x)\n",
    "\n",
    "## Layer 26 - dense\n",
    "x = tf.keras.layers.Dense(32, activation='relu')(x)\n",
    "\n",
    "## Layer 27 - batch norm\n",
    "x = tf.keras.layers.BatchNormalization()(x)\n",
    "\n",
    "## Layer 28 - dropout\n",
    "x = tf.keras.layers.Dropout(0.5)(x)\n",
    "\n",
    "## Layer 29 - dense\n",
    "x = tf.keras.layers.Dense(32, activation='relu')(x)\n",
    "\n",
    "## Layer 30 - batch norm\n",
    "x = tf.keras.layers.BatchNormalization()(x)\n",
    "\n",
    "## Layer 31 - dropout\n",
    "x = tf.keras.layers.Dropout(0.5)(x)\n",
    "\n",
    "## Layer 32 - dense\n",
    "x = tf.keras.layers.Dense(16, activation='relu')(x)\n",
    "\n",
    "## Layer 33 - batch norm\n",
    "x = tf.keras.layers.BatchNormalization()(x)\n",
    "\n",
    "## Layer 34 - dropout\n",
    "x = tf.keras.layers.Dropout(0.5)(x)\n",
    "\n",
    "## Layer 35 - output\n",
    "output = tf.keras.layers.Dense(1, activation='softmax')(x)\n",
    "\n",
    "cnn_model = tf.keras.Model(input, output, name=\"cnn_model\")\n",
    "cnn_model.summary()"
   ]
  },
  {
   "cell_type": "code",
   "execution_count": 18,
   "metadata": {},
   "outputs": [
    {
     "name": "stdout",
     "output_type": "stream",
     "text": [
      "('You must install pydot (`pip install pydot`) and install graphviz (see instructions at https://graphviz.gitlab.io/download/) ', 'for plot_model/model_to_dot to work.')\n"
     ]
    }
   ],
   "source": [
    "tf.keras.utils.plot_model(cnn_model, \"cnn_model.png\", show_shapes=True)"
   ]
  },
  {
   "cell_type": "code",
   "execution_count": 19,
   "metadata": {},
   "outputs": [],
   "source": [
    "cnn_model.compile(optimizer=tf.keras.optimizers.Adam(learning_rate=1e-3), loss=tf.keras.losses.BinaryCrossentropy(), metrics=tf.keras.metrics.BinaryAccuracy())"
   ]
  },
  {
   "cell_type": "code",
   "execution_count": 25,
   "metadata": {},
   "outputs": [
    {
     "name": "stdout",
     "output_type": "stream",
     "text": [
      "WARNING:tensorflow:From <ipython-input-25-9080299b7a22>:1: experimental_run_functions_eagerly (from tensorflow.python.eager.def_function) is deprecated and will be removed in a future version.\n",
      "Instructions for updating:\n",
      "Use `tf.config.run_functions_eagerly` instead of the experimental version.\n",
      "Epoch 1/2\n"
     ]
    },
    {
     "name": "stderr",
     "output_type": "stream",
     "text": [
      "/anaconda3/lib/python3.7/site-packages/tensorflow/python/data/ops/dataset_ops.py:4212: UserWarning: Even though the `tf.config.experimental_run_functions_eagerly` option is set, this option does not apply to tf.data functions. To force eager execution of tf.data functions, please use `tf.data.experimental.enable_debug_mode()`.\n",
      "  \"Even though the `tf.config.experimental_run_functions_eagerly` \"\n"
     ]
    },
    {
     "name": "stdout",
     "output_type": "stream",
     "text": [
      "8/8 [==============================] - 3s 400ms/step - loss: 0.8811 - binary_accuracy: 1.0000 - val_loss: 0.6978 - val_binary_accuracy: 1.0000\n",
      "Epoch 2/2\n",
      "8/8 [==============================] - 3s 329ms/step - loss: 0.8082 - binary_accuracy: 1.0000 - val_loss: 0.6862 - val_binary_accuracy: 1.0000\n"
     ]
    },
    {
     "data": {
      "text/plain": [
       "<keras.callbacks.History at 0x13c97ddd8>"
      ]
     },
     "execution_count": 25,
     "metadata": {},
     "output_type": "execute_result"
    }
   ],
   "source": [
    "tf.config.experimental_run_functions_eagerly(True)\n",
    "\n",
    "cnn_model.fit(x=mi_train_data, y=mi_train_label, batch_size=32, epochs=2, verbose=True, validation_data=(mi_test_data, mi_test_label))"
   ]
  },
  {
   "cell_type": "code",
   "execution_count": 27,
   "metadata": {},
   "outputs": [
    {
     "name": "stdout",
     "output_type": "stream",
     "text": [
      "INFO:tensorflow:Assets written to: /Users/cesargenatios/Desktop/cappy/model_dev/cnn/saved_model/assets\n"
     ]
    }
   ],
   "source": [
    "tf.saved_model.save(cnn_model, \"/Users/cesargenatios/Desktop/cappy/model_dev/model_prototypes/cnn/saved_model\")"
   ]
  },
  {
   "cell_type": "code",
   "execution_count": null,
   "metadata": {},
   "outputs": [],
   "source": []
  }
 ],
 "metadata": {
  "environment": {
   "kernel": "python3",
   "name": "tf2-gpu.2-7.m86",
   "type": "gcloud",
   "uri": "gcr.io/deeplearning-platform-release/tf2-gpu.2-7:m86"
  },
  "interpreter": {
   "hash": "398dc28c06ad810e77de546bbdfa897a6ee0b83e59a5207339dda01a7843e01d"
  },
  "kernelspec": {
   "display_name": "Python 3",
   "language": "python",
   "name": "python3"
  },
  "language_info": {
   "codemirror_mode": {
    "name": "ipython",
    "version": 3
   },
   "file_extension": ".py",
   "mimetype": "text/x-python",
   "name": "python",
   "nbconvert_exporter": "python",
   "pygments_lexer": "ipython3",
   "version": "3.7.12"
  }
 },
 "nbformat": 4,
 "nbformat_minor": 4
}
