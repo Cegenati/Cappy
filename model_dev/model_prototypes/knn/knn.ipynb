{
 "cells": [
  {
   "cell_type": "markdown",
   "metadata": {},
   "source": [
    " ## Protoype of KNN model used in this paper: https://www.sciencedirect.com/science/article/abs/pii/S0950705116000708?fbclid=IwAR3IMjfICBRERZVN_nopdLX3uYXHOMfwQgm-Lb7v_uvJ6w6J1_ixNzcelX8"
   ]
  },
  {
   "cell_type": "code",
   "execution_count": 23,
   "metadata": {},
   "outputs": [],
   "source": [
    "## Set environment variable for data reading\n",
    "import os\n",
    "os.environ[\"PTB_FOLDER_PATH\"] = \"/home/jupyter/data/physionet.org/files/ptbdb/1.0.0/\""
   ]
  },
  {
   "cell_type": "code",
   "execution_count": 26,
   "metadata": {},
   "outputs": [
    {
     "ename": "FileNotFoundError",
     "evalue": "[Errno 2] No such file or directory: '/home/jupyter/data/physionet.org/files/ptbdb/1.0.0/patient076/index.hea'",
     "output_type": "error",
     "traceback": [
      "\u001b[0;31m---------------------------------------------------------------------------\u001b[0m",
      "\u001b[0;31mFileNotFoundError\u001b[0m                         Traceback (most recent call last)",
      "\u001b[0;32m/tmp/ipykernel_27093/1845780412.py\u001b[0m in \u001b[0;36m<module>\u001b[0;34m\u001b[0m\n\u001b[1;32m      3\u001b[0m \u001b[0msys\u001b[0m\u001b[0;34m.\u001b[0m\u001b[0mpath\u001b[0m\u001b[0;34m.\u001b[0m\u001b[0minsert\u001b[0m\u001b[0;34m(\u001b[0m\u001b[0;36m0\u001b[0m\u001b[0;34m,\u001b[0m\u001b[0;34m\"/home/jupyter/Cappy/ptd_data_handler\"\u001b[0m\u001b[0;34m)\u001b[0m\u001b[0;34m\u001b[0m\u001b[0;34m\u001b[0m\u001b[0m\n\u001b[1;32m      4\u001b[0m \u001b[0;32mfrom\u001b[0m \u001b[0mdata_formatter\u001b[0m \u001b[0;32mimport\u001b[0m \u001b[0;34m*\u001b[0m\u001b[0;34m\u001b[0m\u001b[0;34m\u001b[0m\u001b[0m\n\u001b[0;32m----> 5\u001b[0;31m \u001b[0mall_patient_data\u001b[0m \u001b[0;34m=\u001b[0m \u001b[0mget_formatted_ptb_data\u001b[0m\u001b[0;34m(\u001b[0m\u001b[0;34m)\u001b[0m\u001b[0;34m\u001b[0m\u001b[0;34m\u001b[0m\u001b[0m\n\u001b[0m",
      "\u001b[0;32m~/Cappy/ptd_data_handler/data_formatter.py\u001b[0m in \u001b[0;36mget_formatted_ptb_data\u001b[0;34m()\u001b[0m\n\u001b[1;32m     67\u001b[0m     \u001b[0mtotal_patient_data\u001b[0m \u001b[0;34m=\u001b[0m \u001b[0;34m{\u001b[0m\u001b[0;34m}\u001b[0m\u001b[0;34m\u001b[0m\u001b[0;34m\u001b[0m\u001b[0m\n\u001b[1;32m     68\u001b[0m     \u001b[0;32mfor\u001b[0m \u001b[0mpatient\u001b[0m \u001b[0;32min\u001b[0m \u001b[0mpatients\u001b[0m\u001b[0;34m:\u001b[0m\u001b[0;34m\u001b[0m\u001b[0;34m\u001b[0m\u001b[0m\n\u001b[0;32m---> 69\u001b[0;31m         \u001b[0mpatient_data\u001b[0m \u001b[0;34m=\u001b[0m \u001b[0mget_formatted_patient_data\u001b[0m\u001b[0;34m(\u001b[0m\u001b[0mpatient\u001b[0m\u001b[0;34m,\u001b[0m \u001b[0mptb_folder_path\u001b[0m\u001b[0;34m)\u001b[0m\u001b[0;34m\u001b[0m\u001b[0;34m\u001b[0m\u001b[0m\n\u001b[0m\u001b[1;32m     70\u001b[0m         \u001b[0mtotal_patient_data\u001b[0m\u001b[0;34m[\u001b[0m\u001b[0mpatient\u001b[0m\u001b[0;34m]\u001b[0m \u001b[0;34m=\u001b[0m \u001b[0mpatient_data\u001b[0m\u001b[0;34m\u001b[0m\u001b[0;34m\u001b[0m\u001b[0m\n\u001b[1;32m     71\u001b[0m     \u001b[0;32mreturn\u001b[0m \u001b[0mtotal_patient_data\u001b[0m\u001b[0;34m\u001b[0m\u001b[0;34m\u001b[0m\u001b[0m\n",
      "\u001b[0;32m~/Cappy/ptd_data_handler/data_formatter.py\u001b[0m in \u001b[0;36mget_formatted_patient_data\u001b[0;34m(patient_id, folder_path)\u001b[0m\n\u001b[1;32m     21\u001b[0m     \u001b[0;31m# For each ecg recording, process record\u001b[0m\u001b[0;34m\u001b[0m\u001b[0;34m\u001b[0m\u001b[0;34m\u001b[0m\u001b[0m\n\u001b[1;32m     22\u001b[0m     \u001b[0;32mfor\u001b[0m \u001b[0mrecording\u001b[0m \u001b[0;32min\u001b[0m \u001b[0mecg_records_list\u001b[0m\u001b[0;34m:\u001b[0m\u001b[0;34m\u001b[0m\u001b[0;34m\u001b[0m\u001b[0m\n\u001b[0;32m---> 23\u001b[0;31m         \u001b[0mrecording_data\u001b[0m \u001b[0;34m=\u001b[0m \u001b[0mwfdb\u001b[0m\u001b[0;34m.\u001b[0m\u001b[0mrdrecord\u001b[0m\u001b[0;34m(\u001b[0m\u001b[0mpatient_folder_path\u001b[0m \u001b[0;34m+\u001b[0m \u001b[0;34m\"/\"\u001b[0m \u001b[0;34m+\u001b[0m \u001b[0mrecording\u001b[0m\u001b[0;34m)\u001b[0m\u001b[0;34m\u001b[0m\u001b[0;34m\u001b[0m\u001b[0m\n\u001b[0m\u001b[1;32m     24\u001b[0m         \u001b[0mrecording_data\u001b[0m \u001b[0;34m=\u001b[0m \u001b[0mrecording_data\u001b[0m\u001b[0;34m.\u001b[0m\u001b[0m__dict__\u001b[0m\u001b[0;34m\u001b[0m\u001b[0;34m\u001b[0m\u001b[0m\n\u001b[1;32m     25\u001b[0m \u001b[0;34m\u001b[0m\u001b[0m\n",
      "\u001b[0;32m/opt/conda/lib/python3.7/site-packages/wfdb/io/record.py\u001b[0m in \u001b[0;36mrdrecord\u001b[0;34m(record_name, sampfrom, sampto, channels, physical, pn_dir, m2s, smooth_frames, ignore_skew, return_res, force_channels, channel_names, warn_empty)\u001b[0m\n\u001b[1;32m   3431\u001b[0m         \u001b[0mrecord\u001b[0m \u001b[0;34m=\u001b[0m \u001b[0mwav2mit\u001b[0m\u001b[0;34m(\u001b[0m\u001b[0mrecord_name\u001b[0m\u001b[0;34m,\u001b[0m \u001b[0mpn_dir\u001b[0m\u001b[0;34m=\u001b[0m\u001b[0mpn_dir\u001b[0m\u001b[0;34m,\u001b[0m \u001b[0mrecord_only\u001b[0m\u001b[0;34m=\u001b[0m\u001b[0;32mTrue\u001b[0m\u001b[0;34m)\u001b[0m\u001b[0;34m\u001b[0m\u001b[0;34m\u001b[0m\u001b[0m\n\u001b[1;32m   3432\u001b[0m     \u001b[0;32melse\u001b[0m\u001b[0;34m:\u001b[0m\u001b[0;34m\u001b[0m\u001b[0;34m\u001b[0m\u001b[0m\n\u001b[0;32m-> 3433\u001b[0;31m         \u001b[0mrecord\u001b[0m \u001b[0;34m=\u001b[0m \u001b[0mrdheader\u001b[0m\u001b[0;34m(\u001b[0m\u001b[0mrecord_name\u001b[0m\u001b[0;34m,\u001b[0m \u001b[0mpn_dir\u001b[0m\u001b[0;34m=\u001b[0m\u001b[0mpn_dir\u001b[0m\u001b[0;34m,\u001b[0m \u001b[0mrd_segments\u001b[0m\u001b[0;34m=\u001b[0m\u001b[0;32mFalse\u001b[0m\u001b[0;34m)\u001b[0m\u001b[0;34m\u001b[0m\u001b[0;34m\u001b[0m\u001b[0m\n\u001b[0m\u001b[1;32m   3434\u001b[0m \u001b[0;34m\u001b[0m\u001b[0m\n\u001b[1;32m   3435\u001b[0m     \u001b[0;31m# Set defaults for sampto and channels input variables\u001b[0m\u001b[0;34m\u001b[0m\u001b[0;34m\u001b[0m\u001b[0;34m\u001b[0m\u001b[0m\n",
      "\u001b[0;32m/opt/conda/lib/python3.7/site-packages/wfdb/io/record.py\u001b[0m in \u001b[0;36mrdheader\u001b[0;34m(record_name, pn_dir, rd_segments)\u001b[0m\n\u001b[1;32m   3258\u001b[0m     \u001b[0;31m# Read the header file. Separate comment and non-comment lines\u001b[0m\u001b[0;34m\u001b[0m\u001b[0;34m\u001b[0m\u001b[0;34m\u001b[0m\u001b[0m\n\u001b[1;32m   3259\u001b[0m     header_lines, comment_lines = _header._read_header_lines(base_record_name,\n\u001b[0;32m-> 3260\u001b[0;31m                                                              dir_name, pn_dir)\n\u001b[0m\u001b[1;32m   3261\u001b[0m \u001b[0;34m\u001b[0m\u001b[0m\n\u001b[1;32m   3262\u001b[0m     \u001b[0;31m# Get fields from record line\u001b[0m\u001b[0;34m\u001b[0m\u001b[0;34m\u001b[0m\u001b[0;34m\u001b[0m\u001b[0m\n",
      "\u001b[0;32m/opt/conda/lib/python3.7/site-packages/wfdb/io/_header.py\u001b[0m in \u001b[0;36m_read_header_lines\u001b[0;34m(base_record_name, dir_name, pn_dir)\u001b[0m\n\u001b[1;32m    850\u001b[0m     \u001b[0;31m# Read local file\u001b[0m\u001b[0;34m\u001b[0m\u001b[0;34m\u001b[0m\u001b[0;34m\u001b[0m\u001b[0m\n\u001b[1;32m    851\u001b[0m     \u001b[0;32mif\u001b[0m \u001b[0mpn_dir\u001b[0m \u001b[0;32mis\u001b[0m \u001b[0;32mNone\u001b[0m\u001b[0;34m:\u001b[0m\u001b[0;34m\u001b[0m\u001b[0;34m\u001b[0m\u001b[0m\n\u001b[0;32m--> 852\u001b[0;31m         \u001b[0;32mwith\u001b[0m \u001b[0mopen\u001b[0m\u001b[0;34m(\u001b[0m\u001b[0mos\u001b[0m\u001b[0;34m.\u001b[0m\u001b[0mpath\u001b[0m\u001b[0;34m.\u001b[0m\u001b[0mjoin\u001b[0m\u001b[0;34m(\u001b[0m\u001b[0mdir_name\u001b[0m\u001b[0;34m,\u001b[0m \u001b[0mfile_name\u001b[0m\u001b[0;34m)\u001b[0m\u001b[0;34m,\u001b[0m \u001b[0;34m'r'\u001b[0m\u001b[0;34m,\u001b[0m \u001b[0merrors\u001b[0m\u001b[0;34m=\u001b[0m\u001b[0;34m'ignore'\u001b[0m\u001b[0;34m)\u001b[0m \u001b[0;32mas\u001b[0m \u001b[0mfp\u001b[0m\u001b[0;34m:\u001b[0m\u001b[0;34m\u001b[0m\u001b[0;34m\u001b[0m\u001b[0m\n\u001b[0m\u001b[1;32m    853\u001b[0m             \u001b[0;31m# Record line followed by signal/segment lines if any\u001b[0m\u001b[0;34m\u001b[0m\u001b[0;34m\u001b[0m\u001b[0;34m\u001b[0m\u001b[0m\n\u001b[1;32m    854\u001b[0m             \u001b[0mheader_lines\u001b[0m \u001b[0;34m=\u001b[0m \u001b[0;34m[\u001b[0m\u001b[0;34m]\u001b[0m\u001b[0;34m\u001b[0m\u001b[0;34m\u001b[0m\u001b[0m\n",
      "\u001b[0;31mFileNotFoundError\u001b[0m: [Errno 2] No such file or directory: '/home/jupyter/data/physionet.org/files/ptbdb/1.0.0/patient076/index.hea'"
     ]
    }
   ],
   "source": [
    "## Load data from PTB dataset\n",
    "import sys\n",
    "sys.path.insert(0,\"/home/jupyter/Cappy/ptd_data_handler\")\n",
    "from data_formatter import *\n",
    "all_patient_data = get_formatted_ptb_data()\n"
   ]
  },
  {
   "cell_type": "markdown",
   "metadata": {},
   "source": [
    "## Data Loading"
   ]
  },
  {
   "cell_type": "code",
   "execution_count": 57,
   "metadata": {},
   "outputs": [
    {
     "name": "stdout",
     "output_type": "stream",
     "text": [
      "patient229 s0453_re\n",
      "patient229 s0452_re\n",
      "patient245 s0474_re\n",
      "patient245 s0480_re\n",
      "patient242 s0471_re\n",
      "patient243 s0472_re\n",
      "patient244 s0473_re\n",
      "patient104 s0306lre\n",
      "patient166 s0275lre\n",
      "patient150 s0287lre\n",
      "patient105 s0303lre\n",
      "patient169 s0329lre\n",
      "patient169 s0328lre\n",
      "patient156 s0299lre\n",
      "patient180 s0477_re\n",
      "patient180 s0545_re\n",
      "patient180 s0374lre\n",
      "patient180 s0475_re\n",
      "patient180 s0490_re\n",
      "patient180 s0476_re\n",
      "patient180 s0561_re\n",
      "patient174 s0325lre\n",
      "patient174 s0324lre\n",
      "patient174 s0300lre\n",
      "patient173 s0305lre\n",
      "patient116 s0302lre\n",
      "patient172 s0304lre\n",
      "patient117 s0292lre\n",
      "patient117 s0291lre\n",
      "patient121 s0311lre\n",
      "patient266 s0502_re\n",
      "patient235 s0461_re\n",
      "patient251 s0486_re\n",
      "patient251 s0503_re\n",
      "patient251 s0506_re\n",
      "patient260 s0496_re\n",
      "patient267 s0504_re\n",
      "patient233 s0458_re\n",
      "patient233 s0483_re\n",
      "patient233 s0482_re\n",
      "patient233 s0457_re\n",
      "patient233 s0459_re\n",
      "patient234 s0460_re\n",
      "patient241 s0469_re\n",
      "patient241 s0470_re\n",
      "patient279 s0531_re\n",
      "patient279 s0532_re\n",
      "patient279 s0534_re\n",
      "patient279 s0533_re\n",
      "patient246 s0478_re\n",
      "patient284 s0551_re\n",
      "patient284 s0543_re\n",
      "patient284 s0552_re\n",
      "patient248 s0481_re\n",
      "patient277 s0527_re\n",
      "patient276 s0526_re\n",
      "patient247 s0479_re\n",
      "patient240 s0468_re\n",
      "patient214 s0436_re\n",
      "patient165 s0323lre\n",
      "patient165 s0322lre\n",
      "patient198 s0402lre\n",
      "patient198 s0415lre\n",
      "patient131 s0273lre\n",
      "patient155 s0301lre\n",
      "patient170 s0274lre\n",
      "patient184 s0363lre\n",
      "patient122 s0312lre\n",
      "patient182 s0308lre\n",
      "patient185 s0336lre\n",
      "patient238 s0466_re\n",
      "patient236 s0463_re\n",
      "patient236 s0464_re\n",
      "patient236 s0462_re\n",
      "patient237 s0465_re\n",
      "patient239 s0467_re\n",
      "patient255 s0491_re\n",
      "patient252 s0487_re\n",
      "patient264 s0500_re\n",
      "patient263 s0499_re\n"
     ]
    }
   ],
   "source": [
    "## Find a healthy control\n",
    "for patient in all_patient_data.keys():\n",
    "    for recording in all_patient_data[patient].keys():\n",
    "        if all_patient_data[patient][recording].label[0] == \"Healthy control\":\n",
    "            print(patient, recording)\n"
   ]
  },
  {
   "cell_type": "code",
   "execution_count": 58,
   "metadata": {},
   "outputs": [],
   "source": [
    "## Choose two patients one with MI, one with Non-MI to test PoC. Test on another \n",
    "mi_train_df = all_patient_data['patient024']['s0094lre']\n",
    "healthy_train_df = all_patient_data['patient252']['s0487_re']\n",
    "\n",
    "mi_test_df = all_patient_data['patient024']['s0083lre']"
   ]
  },
  {
   "cell_type": "code",
   "execution_count": 62,
   "metadata": {},
   "outputs": [],
   "source": [
    "## Delete rest of data to free up space\n",
    "del all_patient_data"
   ]
  },
  {
   "cell_type": "markdown",
   "metadata": {},
   "source": [
    "## Data Processing"
   ]
  },
  {
   "cell_type": "code",
   "execution_count": null,
   "metadata": {},
   "outputs": [],
   "source": [
    "## Resample to 1000 Hz\n",
    "\n",
    "## Use db6 for baseline wander removal\n",
    "\n",
    "## Pan Tompkins to detect R peaks, select 250 left of R and 500 right of R as one beat\n",
    "\n",
    "## DWT on each beat to the 4th power"
   ]
  },
  {
   "cell_type": "markdown",
   "metadata": {},
   "source": [
    "## Feature Extraction"
   ]
  },
  {
   "cell_type": "code",
   "execution_count": null,
   "metadata": {},
   "outputs": [],
   "source": [
    "## Extract 12 features on each of the reconstructed signals to the 4 power\n",
    "## Each signal will have 48 features\n",
    "\n",
    "## Approximate Entropy\n",
    "## Signal Energy\n",
    "## Fuzzy Entropy\n",
    "## Kolmogorov-SInai Entropy\n",
    "## Permutation Entropy\n",
    "## Shannon Entropy\n",
    "## Renyi Entropy\n",
    "## Tsallis Entropy\n",
    "## Wavelet Entropy\n",
    "## Fractal Dimension\n",
    "## Kolmogorov Complexity\n",
    "## Largest Lyapuniv Exponent"
   ]
  },
  {
   "cell_type": "markdown",
   "metadata": {},
   "source": [
    "## Prepare data for training"
   ]
  },
  {
   "cell_type": "code",
   "execution_count": null,
   "metadata": {},
   "outputs": [],
   "source": [
    "## Standardize Data\n",
    "## Separate data and labels\n",
    "## Separate train and testing"
   ]
  },
  {
   "cell_type": "markdown",
   "metadata": {},
   "source": [
    "## Model architecture"
   ]
  },
  {
   "cell_type": "code",
   "execution_count": 63,
   "metadata": {},
   "outputs": [],
   "source": [
    "from sklearn.neighbors import KNeighborsClassifier\n",
    "model = KNeighborsClassifier(n_neighbors=5)"
   ]
  },
  {
   "cell_type": "markdown",
   "metadata": {},
   "source": [
    "## Model training"
   ]
  },
  {
   "cell_type": "code",
   "execution_count": 66,
   "metadata": {},
   "outputs": [
    {
     "data": {
      "text/plain": [
       "Index(['i', 'ii', 'iii', 'avr', 'avl', 'avf', 'v1', 'v2', 'v3', 'v4', 'v5',\n",
       "       'v6', 'vx', 'vy', 'vz', 'patient_id', 'recording_id', 'label',\n",
       "       'acute_infarction_localization', 'former_infarction_localization'],\n",
       "      dtype='object')"
      ]
     },
     "execution_count": 66,
     "metadata": {},
     "output_type": "execute_result"
    }
   ],
   "source": [
    "mi_train_df.columns"
   ]
  },
  {
   "cell_type": "code",
   "execution_count": 70,
   "metadata": {},
   "outputs": [],
   "source": [
    "model.fit(mi_train_df[['i', 'ii', 'iii', 'avr', 'avl', 'avf', 'v1', 'v2', 'v3', 'v4', 'v5',\n",
    "       'v6']], mi_train_df[\"label\"])\n",
    "y_pred = model.predict(mi_test_df[['i', 'ii', 'iii', 'avr', 'avl', 'avf', 'v1', 'v2', 'v3', 'v4', 'v5',\n",
    "       'v6']])"
   ]
  },
  {
   "cell_type": "markdown",
   "metadata": {},
   "source": [
    "## Metrics and model validation"
   ]
  },
  {
   "cell_type": "code",
   "execution_count": 73,
   "metadata": {},
   "outputs": [
    {
     "name": "stderr",
     "output_type": "stream",
     "text": [
      "/anaconda3/lib/python3.7/site-packages/sklearn/metrics/classification.py:1037: FutureWarning: elementwise comparison failed; returning scalar instead, but in the future will perform elementwise comparison\n",
      "  if pos_label not in present_labels:\n"
     ]
    },
    {
     "name": "stdout",
     "output_type": "stream",
     "text": [
      "Accuracy: 1.0, Precision: 0.0, Recall:0.0\n"
     ]
    }
   ],
   "source": [
    "import sklearn.metrics\n",
    "accuracy = sklearn.metrics.accuracy_score(mi_test_df['label'].to_numpy(), y_pred)\n",
    "precision = sklearn.metrics.precision_score(mi_test_df['label'].to_numpy(), y_pred)\n",
    "recall = sklearn.metrics.recall_score(mi_test_df['label'].to_numpy(), y_pred)\n",
    "print(\"Accuracy: {accuracy}, Precision: {precision}, Recall:{recall}\".format(accuracy=accuracy, precision=precision, recall=recall))"
   ]
  },
  {
   "cell_type": "code",
   "execution_count": 74,
   "metadata": {},
   "outputs": [
    {
     "name": "stdout",
     "output_type": "stream",
     "text": [
      "{'algorithm': 'auto', 'leaf_size': 30, 'metric': 'minkowski', 'metric_params': None, 'n_jobs': None, 'n_neighbors': 5, 'p': 2, 'weights': 'uniform'}\n"
     ]
    }
   ],
   "source": [
    "print(model.get_params())"
   ]
  },
  {
   "cell_type": "code",
   "execution_count": 78,
   "metadata": {},
   "outputs": [
    {
     "data": {
      "text/plain": [
       "array([[ 0.4205,  0.1845, -0.236 , -0.302 ,  0.328 , -0.026 , -0.108 ,\n",
       "         0.0065,  0.083 , -0.0705,  0.214 ,  0.168 ]])"
      ]
     },
     "execution_count": 78,
     "metadata": {},
     "output_type": "execute_result"
    }
   ],
   "source": [
    "test_inference = mi_test_df[['i', 'ii', 'iii', 'avr', 'avl', 'avf', 'v1', 'v2', 'v3', 'v4', 'v5',\n",
    "       'v6']]\n",
    "test_inference = test_inference.head(1).to_numpy()"
   ]
  },
  {
   "cell_type": "code",
   "execution_count": 79,
   "metadata": {},
   "outputs": [],
   "source": [
    "pred_inference = model.predict(test_inference)"
   ]
  },
  {
   "cell_type": "code",
   "execution_count": 80,
   "metadata": {},
   "outputs": [],
   "source": [
    "import pickle\n",
    "pkl_filename = \"knn_lfp.pkl\"\n",
    "with open(pkl_filename, 'wb') as file:\n",
    "    pickle.dump(model, file)"
   ]
  },
  {
   "cell_type": "code",
   "execution_count": null,
   "metadata": {},
   "outputs": [],
   "source": []
  }
 ],
 "metadata": {
  "environment": {
   "kernel": "python3",
   "name": "tf2-gpu.2-7.m86",
   "type": "gcloud",
   "uri": "gcr.io/deeplearning-platform-release/tf2-gpu.2-7:m86"
  },
  "interpreter": {
   "hash": "398dc28c06ad810e77de546bbdfa897a6ee0b83e59a5207339dda01a7843e01d"
  },
  "kernelspec": {
   "display_name": "Python 3",
   "language": "python",
   "name": "python3"
  },
  "language_info": {
   "codemirror_mode": {
    "name": "ipython",
    "version": 3
   },
   "file_extension": ".py",
   "mimetype": "text/x-python",
   "name": "python",
   "nbconvert_exporter": "python",
   "pygments_lexer": "ipython3",
   "version": "3.7.12"
  }
 },
 "nbformat": 4,
 "nbformat_minor": 4
}
