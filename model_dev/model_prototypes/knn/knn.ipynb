{
 "cells": [
  {
   "cell_type": "markdown",
   "metadata": {},
   "source": [
    " ## Protoype of KNN model used in this paper: https://www.sciencedirect.com/science/article/abs/pii/S0950705116000708?fbclid=IwAR3IMjfICBRERZVN_nopdLX3uYXHOMfwQgm-Lb7v_uvJ6w6J1_ixNzcelX8"
   ]
  },
  {
   "cell_type": "code",
   "execution_count": 1,
   "metadata": {},
   "outputs": [],
   "source": [
    "## Set environment variable for data reading\n",
    "import os\n",
    "os.environ[\"PTB_FOLDER_PATH\"] = \"/Users/cesargenatios/Downloads/ptb-diagnostic-ecg-database-1.0.0\""
   ]
  },
  {
   "cell_type": "code",
   "execution_count": 10,
   "metadata": {},
   "outputs": [],
   "source": [
    "## Load data from PTB dataset\n",
    "import sys\n",
    "sys.path.insert(0,\"/Users/cesargenatios/Desktop/cappy/ptd_data_handler\")\n",
    "from data_formatter import *\n",
    "all_patient_data = get_formatted_ptb_data()\n"
   ]
  },
  {
   "cell_type": "markdown",
   "metadata": {},
   "source": [
    "## Data Loading"
   ]
  },
  {
   "cell_type": "code",
   "execution_count": 57,
   "metadata": {},
   "outputs": [
    {
     "name": "stdout",
     "output_type": "stream",
     "text": [
      "patient229 s0453_re\n",
      "patient229 s0452_re\n",
      "patient245 s0474_re\n",
      "patient245 s0480_re\n",
      "patient242 s0471_re\n",
      "patient243 s0472_re\n",
      "patient244 s0473_re\n",
      "patient104 s0306lre\n",
      "patient166 s0275lre\n",
      "patient150 s0287lre\n",
      "patient105 s0303lre\n",
      "patient169 s0329lre\n",
      "patient169 s0328lre\n",
      "patient156 s0299lre\n",
      "patient180 s0477_re\n",
      "patient180 s0545_re\n",
      "patient180 s0374lre\n",
      "patient180 s0475_re\n",
      "patient180 s0490_re\n",
      "patient180 s0476_re\n",
      "patient180 s0561_re\n",
      "patient174 s0325lre\n",
      "patient174 s0324lre\n",
      "patient174 s0300lre\n",
      "patient173 s0305lre\n",
      "patient116 s0302lre\n",
      "patient172 s0304lre\n",
      "patient117 s0292lre\n",
      "patient117 s0291lre\n",
      "patient121 s0311lre\n",
      "patient266 s0502_re\n",
      "patient235 s0461_re\n",
      "patient251 s0486_re\n",
      "patient251 s0503_re\n",
      "patient251 s0506_re\n",
      "patient260 s0496_re\n",
      "patient267 s0504_re\n",
      "patient233 s0458_re\n",
      "patient233 s0483_re\n",
      "patient233 s0482_re\n",
      "patient233 s0457_re\n",
      "patient233 s0459_re\n",
      "patient234 s0460_re\n",
      "patient241 s0469_re\n",
      "patient241 s0470_re\n",
      "patient279 s0531_re\n",
      "patient279 s0532_re\n",
      "patient279 s0534_re\n",
      "patient279 s0533_re\n",
      "patient246 s0478_re\n",
      "patient284 s0551_re\n",
      "patient284 s0543_re\n",
      "patient284 s0552_re\n",
      "patient248 s0481_re\n",
      "patient277 s0527_re\n",
      "patient276 s0526_re\n",
      "patient247 s0479_re\n",
      "patient240 s0468_re\n",
      "patient214 s0436_re\n",
      "patient165 s0323lre\n",
      "patient165 s0322lre\n",
      "patient198 s0402lre\n",
      "patient198 s0415lre\n",
      "patient131 s0273lre\n",
      "patient155 s0301lre\n",
      "patient170 s0274lre\n",
      "patient184 s0363lre\n",
      "patient122 s0312lre\n",
      "patient182 s0308lre\n",
      "patient185 s0336lre\n",
      "patient238 s0466_re\n",
      "patient236 s0463_re\n",
      "patient236 s0464_re\n",
      "patient236 s0462_re\n",
      "patient237 s0465_re\n",
      "patient239 s0467_re\n",
      "patient255 s0491_re\n",
      "patient252 s0487_re\n",
      "patient264 s0500_re\n",
      "patient263 s0499_re\n"
     ]
    }
   ],
   "source": [
    "## Find a healthy control\n",
    "for patient in all_patient_data.keys():\n",
    "    for recording in all_patient_data[patient].keys():\n",
    "        if all_patient_data[patient][recording].label[0] == \"Healthy control\":\n",
    "            print(patient, recording)\n"
   ]
  },
  {
   "cell_type": "code",
   "execution_count": 58,
   "metadata": {},
   "outputs": [],
   "source": [
    "## Choose two patients one with MI, one with Non-MI to test PoC. Test on another \n",
    "mi_train_df = all_patient_data['patient024']['s0094lre']\n",
    "healthy_train_df = all_patient_data['patient252']['s0487_re']\n",
    "\n",
    "mi_test_df = all_patient_data['patient024']['s0083lre']"
   ]
  },
  {
   "cell_type": "code",
   "execution_count": 62,
   "metadata": {},
   "outputs": [],
   "source": [
    "## Delete rest of data to free up space\n",
    "del all_patient_data"
   ]
  },
  {
   "cell_type": "markdown",
   "metadata": {},
   "source": [
    "## Data Processing"
   ]
  },
  {
   "cell_type": "code",
   "execution_count": null,
   "metadata": {},
   "outputs": [],
   "source": [
    "## Resample to 1000 Hz\n",
    "\n",
    "## Use db6 for baseline wander removal\n",
    "\n",
    "## Pan Tompkins to detect R peaks, select 250 left of R and 500 right of R as one beat\n",
    "\n",
    "## DWT on each beat to the 4th power"
   ]
  },
  {
   "cell_type": "markdown",
   "metadata": {},
   "source": [
    "## Feature Extraction"
   ]
  },
  {
   "cell_type": "code",
   "execution_count": null,
   "metadata": {},
   "outputs": [],
   "source": [
    "## Extract 12 features on each of the reconstructed signals to the 4 power\n",
    "## Each signal will have 48 features\n",
    "\n",
    "## Approximate Entropy\n",
    "## Signal Energy\n",
    "## Fuzzy Entropy\n",
    "## Kolmogorov-SInai Entropy\n",
    "## Permutation Entropy\n",
    "## Shannon Entropy\n",
    "## Renyi Entropy\n",
    "## Tsallis Entropy\n",
    "## Wavelet Entropy\n",
    "## Fractal Dimension\n",
    "## Kolmogorov Complexity\n",
    "## Largest Lyapuniv Exponent"
   ]
  },
  {
   "cell_type": "markdown",
   "metadata": {},
   "source": [
    "## Prepare data for training"
   ]
  },
  {
   "cell_type": "code",
   "execution_count": null,
   "metadata": {},
   "outputs": [],
   "source": [
    "## Standardize Data\n",
    "## Separate data and labels\n",
    "## Separate train and testing"
   ]
  },
  {
   "cell_type": "markdown",
   "metadata": {},
   "source": [
    "## Model architecture"
   ]
  },
  {
   "cell_type": "code",
   "execution_count": 63,
   "metadata": {},
   "outputs": [],
   "source": [
    "from sklearn.neighbors import KNeighborsClassifier\n",
    "model = KNeighborsClassifier(n_neighbors=5)"
   ]
  },
  {
   "cell_type": "markdown",
   "metadata": {},
   "source": [
    "## Model training"
   ]
  },
  {
   "cell_type": "code",
   "execution_count": 66,
   "metadata": {},
   "outputs": [
    {
     "data": {
      "text/plain": [
       "Index(['i', 'ii', 'iii', 'avr', 'avl', 'avf', 'v1', 'v2', 'v3', 'v4', 'v5',\n",
       "       'v6', 'vx', 'vy', 'vz', 'patient_id', 'recording_id', 'label',\n",
       "       'acute_infarction_localization', 'former_infarction_localization'],\n",
       "      dtype='object')"
      ]
     },
     "execution_count": 66,
     "metadata": {},
     "output_type": "execute_result"
    }
   ],
   "source": [
    "mi_train_df.columns"
   ]
  },
  {
   "cell_type": "code",
   "execution_count": 70,
   "metadata": {},
   "outputs": [],
   "source": [
    "model.fit(mi_train_df[['i', 'ii', 'iii', 'avr', 'avl', 'avf', 'v1', 'v2', 'v3', 'v4', 'v5',\n",
    "       'v6']], mi_train_df[\"label\"])\n",
    "y_pred = model.predict(mi_test_df[['i', 'ii', 'iii', 'avr', 'avl', 'avf', 'v1', 'v2', 'v3', 'v4', 'v5',\n",
    "       'v6']])"
   ]
  },
  {
   "cell_type": "markdown",
   "metadata": {},
   "source": [
    "## Metrics and model validation"
   ]
  },
  {
   "cell_type": "code",
   "execution_count": 73,
   "metadata": {},
   "outputs": [
    {
     "name": "stderr",
     "output_type": "stream",
     "text": [
      "/anaconda3/lib/python3.7/site-packages/sklearn/metrics/classification.py:1037: FutureWarning: elementwise comparison failed; returning scalar instead, but in the future will perform elementwise comparison\n",
      "  if pos_label not in present_labels:\n"
     ]
    },
    {
     "name": "stdout",
     "output_type": "stream",
     "text": [
      "Accuracy: 1.0, Precision: 0.0, Recall:0.0\n"
     ]
    }
   ],
   "source": [
    "import sklearn.metrics\n",
    "accuracy = sklearn.metrics.accuracy_score(mi_test_df['label'].to_numpy(), y_pred)\n",
    "precision = sklearn.metrics.precision_score(mi_test_df['label'].to_numpy(), y_pred)\n",
    "recall = sklearn.metrics.recall_score(mi_test_df['label'].to_numpy(), y_pred)\n",
    "print(\"Accuracy: {accuracy}, Precision: {precision}, Recall:{recall}\".format(accuracy=accuracy, precision=precision, recall=recall))"
   ]
  },
  {
   "cell_type": "code",
   "execution_count": 74,
   "metadata": {},
   "outputs": [
    {
     "name": "stdout",
     "output_type": "stream",
     "text": [
      "{'algorithm': 'auto', 'leaf_size': 30, 'metric': 'minkowski', 'metric_params': None, 'n_jobs': None, 'n_neighbors': 5, 'p': 2, 'weights': 'uniform'}\n"
     ]
    }
   ],
   "source": [
    "print(model.get_params())"
   ]
  },
  {
   "cell_type": "code",
   "execution_count": 78,
   "metadata": {},
   "outputs": [
    {
     "data": {
      "text/plain": [
       "array([[ 0.4205,  0.1845, -0.236 , -0.302 ,  0.328 , -0.026 , -0.108 ,\n",
       "         0.0065,  0.083 , -0.0705,  0.214 ,  0.168 ]])"
      ]
     },
     "execution_count": 78,
     "metadata": {},
     "output_type": "execute_result"
    }
   ],
   "source": [
    "test_inference = mi_test_df[['i', 'ii', 'iii', 'avr', 'avl', 'avf', 'v1', 'v2', 'v3', 'v4', 'v5',\n",
    "       'v6']]\n",
    "test_inference = test_inference.head(1).to_numpy()"
   ]
  },
  {
   "cell_type": "code",
   "execution_count": 79,
   "metadata": {},
   "outputs": [],
   "source": [
    "pred_inference = model.predict(test_inference)"
   ]
  },
  {
   "cell_type": "code",
   "execution_count": 80,
   "metadata": {},
   "outputs": [],
   "source": [
    "import pickle\n",
    "pkl_filename = \"knn_lfp.pkl\"\n",
    "with open(pkl_filename, 'wb') as file:\n",
    "    pickle.dump(model, file)"
   ]
  },
  {
   "cell_type": "code",
   "execution_count": null,
   "metadata": {},
   "outputs": [],
   "source": []
  }
 ],
 "metadata": {
  "interpreter": {
   "hash": "398dc28c06ad810e77de546bbdfa897a6ee0b83e59a5207339dda01a7843e01d"
  },
  "kernelspec": {
   "display_name": "Python 3.7.3 64-bit ('base': conda)",
   "name": "python3"
  },
  "language_info": {
   "codemirror_mode": {
    "name": "ipython",
    "version": 3
   },
   "file_extension": ".py",
   "mimetype": "text/x-python",
   "name": "python",
   "nbconvert_exporter": "python",
   "pygments_lexer": "ipython3",
   "version": "3.7.3"
  },
  "orig_nbformat": 4
 },
 "nbformat": 4,
 "nbformat_minor": 2
}
